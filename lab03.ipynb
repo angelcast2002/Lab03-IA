{
 "cells": [
  {
   "cell_type": "markdown",
   "metadata": {},
   "source": [
    "# Preguntas Teóricas"
   ]
  },
  {
   "cell_type": "markdown",
   "metadata": {},
   "source": [
    "1. Explique la diferencia entre descenso de gradiente, descenso de gradiente por mini batches y descenso de gradiente estocástico. Asegúrese de mencionar las ventajas y desventajas de cada enfoque."
   ]
  },
  {
   "cell_type": "markdown",
   "metadata": {},
   "source": [
    "### Descenso de gradiente\n",
    "\n",
    "Es el enfoque tradicional donde se calcula el gradiente de la función de pérdida respecto a todos los features de la data de entrenamiento. Actualiza los pesos del modelo después de procesor todos los features de entrenamiento.\n",
    "#### Ventajas:\n",
    "- Garantiza la convergencia al mínimo local o global.\n",
    "- Utiliza de manera eficiente el hardware al aprovechar operaciones vectorizadas.\n",
    "#### Desventajas:\n",
    "- Requiere almacenar todos los datos de entrenamiento en memoria, lo que es un problema para conjuntos muy grandes.\n",
    "- Debido a que debe almacenar y analizar todos los datos su coste computacional aumenta."
   ]
  },
  {
   "cell_type": "markdown",
   "metadata": {},
   "source": [
    "### Descenso de Gradiente por Mini Lotes\n",
    "\n",
    "Es una variante intermedia en donde la gradiente y los pesos se calculan utilizando un subconjunto pequeño (mini - bache) y fijo de los ejemplos de entrenamiento.\n",
    "Estos \"mini-lotes\" se eligen aleatoriamente en cada iteración del entrenamiento.\n",
    "#### Ventajas:\n",
    "- Utiliza menos memoria en comparación con la variante anterior, debido al menor uso de features.\n",
    "- Aprovecha la eficiencia de las operaciones vectorizadas y paralelismo en hardware moderno.\n",
    "- Mejora la convergencia en problemas no convexos al introducir variabilidad en el cálculo de del gradiente.\n",
    "\n",
    "#### Desventajas:\n",
    "- Debido a la variabilidad de los features durante el entrenamiento puede llegar a requerir el ajuste de la tasa de aprendizaje.\n",
    "- No garantiza convergencia al mínimo global en problemas no convexos."
   ]
  },
  {
   "cell_type": "markdown",
   "metadata": {},
   "source": [
    "#### Referencia\n",
    "- https://medium.com/metadatos/todo-lo-que-necesitas-saber-sobre-el-descenso-del-gradiente-aplicado-a-redes-neuronales-19bdbb706a78"
   ]
  },
  {
   "cell_type": "markdown",
   "metadata": {},
   "source": [
    "### Descenso de Gradiente Estocástico\n",
    "\n",
    "El gradiente y los pesos son calculados y actualizados utilizando solo un ejemplo de entrenamiento a la vez, el cual es elegido aleatoriamente en cada iteración.\n",
    "\n",
    "#### Ventajas\n",
    "- Debido a que solo utiliza un solo ejemplo por cada iteración utiliza mucha menos memoria que las variantes anteriores, lo que permite entrenar modelos de conjuntos muy grandes.\n",
    "- Su alta variabilidad en las actualizaciones ayuda a evitar mínimos locales en problemas no convexos.\n",
    "- Converge más rápido inicialmente debido a las actualizaciones de pesos más frecuentes.\n",
    "\n",
    "#### Desventajas\n",
    "- Su alta variabilidad hace que el proceso de aprendizaje sea menos estable y requiere ajustar la tasa de aprendizaje de forma cuidadosa.\n",
    "- No garantiza convergencia en problemas no convexos y puede oscilar alrededor del mínimo global.\n",
    "- Menor aprovechamiento del parelelismo."
   ]
  },
  {
   "cell_type": "markdown",
   "metadata": {},
   "source": [
    "2. Compare y contraste técnicas de extracción de features (feature extraction) y selección de features (feature selection) en machine learning. De ejemplos de escenarios donde cada técnica sería más apropiada"
   ]
  },
  {
   "cell_type": "markdown",
   "metadata": {},
   "source": [
    "### Extración de caracteristicas\n",
    "\n",
    "Consiste en transformar los datos originales en un conjunto de caracteristicas nuevas y más representativas. Se utilizan algoritmos como el análisis de componentes principales (PCA) o la descompisición de valor singular (SVD) para crear nuevas caracteristicas que conserven la información relevante del conjunto de datos original. \n",
    "\n",
    "#### Escenarios de uso \n",
    "\n",
    "- Cuando se tiene un conjunto de datos con muchas características redundantes.\n",
    "- Para reducir la dimensionalidad y mejorar la eficiencia computacional.\n",
    "- Cuando se busca representar los datos de manera más compacta."
   ]
  },
  {
   "cell_type": "markdown",
   "metadata": {},
   "source": [
    "### Selección de caracteristicas\n",
    "\n",
    "Consiste elegir un subconjunto de las caracteristicas originales, eliminando las menos relevantes o redundantes. Se pueden utlizar tecnicas como regularización o pruebas estadísticas como prueba de t de Student. \n",
    "\n",
    "#### Escenarios\n",
    "\n",
    "- Cuando se quiere mejorar la interpretabilidad del modelo eliminando características irrelevantes.\n",
    "- Para reducir el riesgo de sobreajuste en modelos complejos.\n",
    "- En situaciones donde hay muchas características pero solo unas pocas son realmente informativas."
   ]
  },
  {
   "cell_type": "markdown",
   "metadata": {},
   "source": [
    "3. Describa la arquitectura y el funcionamiento de un perceptrón de una sola capa (un tipo de red neuronal sin backpropagation). Explique cómo aprende y la forma en la que actualiza sus parámetros"
   ]
  },
  {
   "cell_type": "markdown",
   "metadata": {},
   "source": [
    "# Ejercicios Prácticos"
   ]
  },
  {
   "cell_type": "markdown",
   "metadata": {},
   "source": [
    "## Task 2.1"
   ]
  },
  {
   "cell_type": "markdown",
   "source": [
    "### Gradiente Estocástico"
   ],
   "metadata": {
    "collapsed": false
   }
  },
  {
   "cell_type": "code",
   "execution_count": 3,
   "metadata": {
    "ExecuteTime": {
     "end_time": "2024-02-03T01:48:59.009163100Z",
     "start_time": "2024-02-03T01:48:58.771273100Z"
    }
   },
   "outputs": [],
   "source": [
    "import numpy as np\n",
    "import matplotlib.pyplot as plt\n",
    "import time"
   ]
  },
  {
   "cell_type": "code",
   "execution_count": 4,
   "metadata": {
    "ExecuteTime": {
     "end_time": "2024-02-03T01:48:59.044401600Z",
     "start_time": "2024-02-03T01:48:59.014955Z"
    }
   },
   "outputs": [],
   "source": [
    "# Función polinómica\n",
    "def polynomial(x):\n",
    "    return 2 * x**3 - 3 * x**2 + 5 * x + 3\n",
    "\n",
    "# Función para obtener el costo. \n",
    "def cost_function(y_true, y_pred):\n",
    "    return np.mean((y_true - y_pred)**2)"
   ]
  },
  {
   "cell_type": "code",
   "outputs": [],
   "source": [
    "def run_gradient_descent(X, y_true, coefficients, learning_rate, n_iterations):\n",
    "    # Almacenar el tiempo de inicio\n",
    "    start_time = time.time()\n",
    "\n",
    "    # Almacenar los resultados para graficar\n",
    "    cost_history = []\n",
    "\n",
    "    # Gradiente estocástico\n",
    "    for _ in range(n_iterations):\n",
    "        for i in range(len(X)):\n",
    "            # Calcula la predicción utilizando np.polyval\n",
    "            y_pred = np.polyval(coefficients, X[i])\n",
    "\n",
    "            # Calcula el gradiente de la función de costo con respecto a los coeficientes\n",
    "            gradient = -2 * X[i] ** 3 + 3 * X[i] ** 2 - 5 * X[i] + (y_pred - y_true[i])\n",
    "\n",
    "            # Actualiza los coeficientes utilizando el gradiente y la tasa de aprendizaje\n",
    "            coefficients = coefficients - learning_rate * gradient\n",
    "\n",
    "        # Calcula el costo actual y almacénalo para graficar\n",
    "        y_final = np.polyval(coefficients, X)\n",
    "        current_cost = cost_function(y_true, y_final)\n",
    "        cost_history.append(current_cost)\n",
    "\n",
    "    # Almacenar el tiempo de finalización\n",
    "    end_time = time.time()\n",
    "\n",
    "    # Calcular el tiempo de ejecución\n",
    "    execution_time = end_time - start_time\n",
    "\n",
    "    # Muestra los coeficientes finales\n",
    "    print(\"Coeficientes finales:\", coefficients)\n",
    "\n",
    "    # Imprimir el tiempo de ejecución\n",
    "    print(\"Tiempo de ejecución:\", execution_time, \"segundos\")\n",
    "\n",
    "    # Grafica los datos reales y la predicción final\n",
    "    plt.scatter(X, y_true, label='Datos reales')\n",
    "    x_range = np.linspace(0, 1, 100)\n",
    "    y_pred = np.polyval(coefficients, x_range)\n",
    "    plt.plot(x_range, y_pred, color='red', label='Polinomio ajustado')\n",
    "    plt.xlabel('X')\n",
    "    plt.ylabel('Y')\n",
    "    plt.legend()\n",
    "    plt.title('Ajuste de polinomio con gradiente estocástico')\n",
    "    plt.show()"
   ],
   "metadata": {
    "collapsed": false,
    "ExecuteTime": {
     "end_time": "2024-02-03T01:48:59.080988Z",
     "start_time": "2024-02-03T01:48:59.037808500Z"
    }
   },
   "execution_count": 5
  },
  {
   "cell_type": "code",
   "outputs": [
    {
     "name": "stdout",
     "output_type": "stream",
     "text": [
      "Coeficientes finales: [3.20597666 3.10550742 3.07628791 3.57881435]\n",
      "Tiempo de ejecución: 1.0138967037200928 segundos\n"
     ]
    },
    {
     "data": {
      "text/plain": "<Figure size 640x480 with 1 Axes>",
      "image/png": "[encoded data removed]"
     },
     "metadata": {},
     "output_type": "display_data"
    }
   ],
   "source": [
    "# Datos de ejemplo\n",
    "X = np.random.rand(100)\n",
    "y_true = polynomial(X) + 0.1 * np.random.randn(100)\n",
    "\n",
    "# Coeficientes iniciales\n",
    "coefficients = np.random.rand(4)\n",
    "\n",
    "# Tasa de aprendizaje y número de iteraciones\n",
    "learning_rate = 0.01\n",
    "n_iterations = 1000\n",
    "\n",
    "# Llamar a la función principal\n",
    "run_gradient_descent(X, y_true, coefficients, learning_rate, n_iterations)"
   ],
   "metadata": {
    "collapsed": false,
    "ExecuteTime": {
     "end_time": "2024-02-03T01:49:00.333744700Z",
     "start_time": "2024-02-03T01:48:59.082011100Z"
    }
   },
   "execution_count": 6
  },
  {
   "cell_type": "markdown",
   "source": [
    "### Descenso de Gradiente"
   ],
   "metadata": {
    "collapsed": false
   }
  },
  {
   "cell_type": "code",
   "outputs": [],
   "source": [
    "def gradient_descent(X, y_true, coefficients, learning_rate, n_iterations):\n",
    "    # Almacenar los resultados para graficar\n",
    "    cost_history = []\n",
    "    start_time = time.time()\n",
    "\n",
    "    # Descenso de gradiente\n",
    "    for _ in range(n_iterations):\n",
    "        # Calcula las predicciones utilizando np.polyval\n",
    "        y_pred = np.polyval(coefficients, X)\n",
    "\n",
    "        # Calcula el gradiente de la función de costo con respecto a los coeficientes\n",
    "        gradient = np.polyder(coefficients, m=1)\n",
    "\n",
    "        # Actualiza los coeficientes utilizando el gradiente y la tasa de aprendizaje\n",
    "        coefficients = coefficients - learning_rate * np.polyval(gradient, X) @ (y_pred - y_true)\n",
    "\n",
    "        # Calcula el costo actual y almacénalo para graficar\n",
    "        current_cost = cost_function(y_true, y_pred)\n",
    "        cost_history.append(current_cost)\n",
    "        \n",
    "    end_time = time.time()\n",
    "    \n",
    "    execution_time = end_time - start_time\n",
    "\n",
    "    # Muestra los coeficientes finales\n",
    "    print(\"Coeficientes finales:\", coefficients)\n",
    "    print(\"Tiempo de ejecución:\", execution_time, \"segundos\")\n",
    "    # Grafica los datos reales y la predicción final\n",
    "    plt.scatter(X, y_true, label='Datos reales')\n",
    "    x_range = np.linspace(np.min(X), np.max(X), 100)\n",
    "    y_pred = np.polyval(coefficients, x_range)\n",
    "    plt.plot(x_range, y_pred, color='red', label='Polinomio ajustado')\n",
    "    plt.xlabel('X')\n",
    "    plt.ylabel('Y')\n",
    "    plt.legend()\n",
    "    plt.title('Ajuste de polinomio con descenso de gradiente')\n",
    "    plt.show()"
   ],
   "metadata": {
    "collapsed": false,
    "ExecuteTime": {
     "end_time": "2024-02-03T01:49:00.349935700Z",
     "start_time": "2024-02-03T01:49:00.337647400Z"
    }
   },
   "execution_count": 7
  },
  {
   "cell_type": "code",
   "outputs": [
    {
     "name": "stdout",
     "output_type": "stream",
     "text": [
      "Coeficientes finales: [2.55235355 1.95031766 2.12281419 2.22979098]\n",
      "Tiempo de ejecución: 0.04132390022277832 segundos\n"
     ]
    },
    {
     "data": {
      "text/plain": "<Figure size 640x480 with 1 Axes>",
      "image/png": "[encoded data removed]"
     },
     "metadata": {},
     "output_type": "display_data"
    }
   ],
   "source": [
    "# Datos de ejemplo\n",
    "X = np.random.rand(100)\n",
    "y_true = polynomial(X) + 0.1 * np.random.randn(100)\n",
    "\n",
    "# Coeficientes iniciales\n",
    "coefficients = np.random.rand(4)\n",
    "\n",
    "# Tasa de aprendizaje y número de iteraciones\n",
    "learning_rate = 0.001\n",
    "n_iterations = 1000\n",
    "\n",
    "# Llama a la función principal para el descenso de gradiente\n",
    "gradient_descent(X, y_true, coefficients, learning_rate, n_iterations)"
   ],
   "metadata": {
    "collapsed": false,
    "ExecuteTime": {
     "end_time": "2024-02-03T01:49:00.627370Z",
     "start_time": "2024-02-03T01:49:00.341356800Z"
    }
   },
   "execution_count": 8
  },
  {
   "cell_type": "markdown",
   "source": [
    "### Descenso de gradiente por mini batches "
   ],
   "metadata": {
    "collapsed": false
   }
  },
  {
   "cell_type": "code",
   "outputs": [],
   "source": [
    "def run_mini_batch_gradient_descent(X, y_true, coefficients, learning_rate, n_iterations, batch_size):\n",
    "    # Almacenar el tiempo de inicio\n",
    "    start_time = time.time()\n",
    "\n",
    "    # Almacenar los resultados para graficar\n",
    "    cost_history = []\n",
    "\n",
    "    # Mini-batch gradient descent\n",
    "    for _ in range(n_iterations):\n",
    "        indices = np.random.choice(len(X), size=batch_size, replace=False)\n",
    "        X_batch = X[indices]\n",
    "        y_batch = y_true[indices]\n",
    "\n",
    "        # Calcula las predicciones utilizando np.polyval\n",
    "        y_pred = np.polyval(coefficients, X_batch)\n",
    "\n",
    "        # Calcula el gradiente de la función de costo con respecto a los coeficientes\n",
    "        gradient = np.polyder(coefficients, m=1)\n",
    "\n",
    "        # Actualiza los coeficientes utilizando el gradiente y la tasa de aprendizaje\n",
    "        coefficients = coefficients - learning_rate * np.polyval(gradient, X_batch) @ (y_pred - y_batch)\n",
    "\n",
    "        # Calcula el costo actual y almacénalo para graficar\n",
    "        y_final = np.polyval(coefficients, X)\n",
    "        current_cost = cost_function(y_true, y_final)\n",
    "        cost_history.append(current_cost)\n",
    "\n",
    "    # Almacenar el tiempo de finalización\n",
    "    end_time = time.time()\n",
    "\n",
    "    # Calcular el tiempo de ejecución\n",
    "    execution_time = end_time - start_time\n",
    "\n",
    "    # Muestra los coeficientes finales\n",
    "    print(\"Coeficientes finales:\", coefficients)\n",
    "\n",
    "    # Imprimir el tiempo de ejecución\n",
    "    print(\"Tiempo de ejecución:\", execution_time, \"segundos\")\n",
    "\n",
    "    # Grafica los datos reales y la predicción final\n",
    "    plt.scatter(X, y_true, label='Datos reales')\n",
    "    x_range = np.linspace(0, 1, 100)\n",
    "    y_pred = np.polyval(coefficients, x_range)\n",
    "    plt.plot(x_range, y_pred, color='red', label='Polinomio ajustado')\n",
    "    plt.xlabel('X')\n",
    "    plt.ylabel('Y')\n",
    "    plt.legend()\n",
    "    plt.title('Ajuste de polinomio con mini-batch gradient descent')\n",
    "    plt.show()"
   ],
   "metadata": {
    "collapsed": false,
    "ExecuteTime": {
     "end_time": "2024-02-03T01:49:00.640165500Z",
     "start_time": "2024-02-03T01:49:00.631125100Z"
    }
   },
   "execution_count": 9
  },
  {
   "cell_type": "code",
   "outputs": [
    {
     "name": "stdout",
     "output_type": "stream",
     "text": [
      "Coeficientes finales: [1.9840869  1.31028524 1.8552342  1.31536766]\n",
      "Tiempo de ejecución: 0.0892188549041748 segundos\n"
     ]
    },
    {
     "data": {
      "text/plain": "<Figure size 640x480 with 1 Axes>",
      "image/png": "[encoded data removed]"
     },
     "metadata": {},
     "output_type": "display_data"
    }
   ],
   "source": [
    "# Datos de ejemplo\n",
    "X = np.random.rand(100)\n",
    "y_true = polynomial(X) + 0.1 * np.random.randn(100)\n",
    "\n",
    "# Coeficientes iniciales\n",
    "coefficients = np.random.rand(4)\n",
    "\n",
    "# Tasa de aprendizaje, número de iteraciones y tamaño del mini-batch\n",
    "learning_rate = 0.01\n",
    "n_iterations = 1000\n",
    "batch_size = 10\n",
    "\n",
    "# Llamar a la función principal para el mini-batch gradient descent\n",
    "run_mini_batch_gradient_descent(X, y_true, coefficients, learning_rate, n_iterations, batch_size)"
   ],
   "metadata": {
    "collapsed": false,
    "ExecuteTime": {
     "end_time": "2024-02-03T01:49:00.979422200Z",
     "start_time": "2024-02-03T01:49:00.639144600Z"
    }
   },
   "execution_count": 10
  },
  {
   "cell_type": "markdown",
   "source": [
    "## Tiempos de ejecucción\n",
    "\n",
    "- SGD:                    1.3809788227081299 segundos\n",
    "- Descenso de gradiente:  0.035993337631225586 segundos\n",
    "- Mini Batches:           0.06689310073852539 segundos\n",
    "\n",
    "**El descenso por gradiente fue el método más eficiente, con un tiempo de 3.56 *10^-2 segundos.**"
   ],
   "metadata": {
    "collapsed": false
   }
  },
  {
   "cell_type": "markdown",
   "metadata": {},
   "source": [
    "## Task 2.2 - Feature Selection"
   ]
  },
  {
   "cell_type": "code",
   "execution_count": 11,
   "metadata": {
    "ExecuteTime": {
     "end_time": "2024-02-03T01:49:00.982428400Z",
     "start_time": "2024-02-03T01:49:00.944486700Z"
    }
   },
   "outputs": [],
   "source": [
    "import numpy as np\n",
    "import matplotlib.pyplot as plt\n",
    "import pandas as pd"
   ]
  },
  {
   "cell_type": "code",
   "execution_count": 12,
   "metadata": {
    "ExecuteTime": {
     "end_time": "2024-02-03T01:49:01.082927200Z",
     "start_time": "2024-02-03T01:49:00.947462400Z"
    }
   },
   "outputs": [
    {
     "data": {
      "text/plain": "       gameId  blueWins  blueWardsPlaced  blueWardsDestroyed  blueFirstBlood  \\\n0  4519157822         0               28                   2               1   \n1  4523371949         0               12                   1               0   \n2  4521474530         0               15                   0               0   \n3  4524384067         0               43                   1               0   \n4  4436033771         0               75                   4               0   \n5  4475365709         1               18                   0               0   \n6  4493010632         1               18                   3               1   \n7  4496759358         0               16                   2               0   \n8  4443048030         0               16                   3               0   \n9  4509433346         1               13                   1               1   \n\n   blueKills  blueDeaths  blueAssists  blueEliteMonsters  blueDragons  ...  \\\n0          9           6           11                  0            0  ...   \n1          5           5            5                  0            0  ...   \n2          7          11            4                  1            1  ...   \n3          4           5            5                  1            0  ...   \n4          6           6            6                  0            0  ...   \n5          5           3            6                  1            1  ...   \n6          7           6            7                  1            1  ...   \n7          5          13            3                  0            0  ...   \n8          7           7            8                  0            0  ...   \n9          4           5            5                  1            1  ...   \n\n   redTowersDestroyed  redTotalGold  redAvgLevel  redTotalExperience  \\\n0                   0         16567          6.8               17047   \n1                   1         17620          6.8               17438   \n2                   0         17285          6.8               17254   \n3                   0         16478          7.0               17961   \n4                   0         17404          7.0               18313   \n5                   0         15201          7.0               18060   \n6                   0         14463          6.4               15404   \n7                   0         17920          6.6               16938   \n8                   0         18380          7.2               19298   \n9                   0         16605          6.8               18379   \n\n   redTotalMinionsKilled  redTotalJungleMinionsKilled  redGoldDiff  \\\n0                    197                           55         -643   \n1                    240                           52         2908   \n2                    203                           28         1172   \n3                    235                           47         1321   \n4                    225                           67         1004   \n5                    221                           59         -698   \n6                    164                           35        -2411   \n7                    157                           54         2615   \n8                    240                           53         1979   \n9                    247                           43         1548   \n\n   redExperienceDiff  redCSPerMin  redGoldPerMin  \n0                  8         19.7         1656.7  \n1               1173         24.0         1762.0  \n2               1033         20.3         1728.5  \n3                  7         23.5         1647.8  \n4               -230         22.5         1740.4  \n5               -101         22.1         1520.1  \n6              -1563         16.4         1446.3  \n7                800         15.7         1792.0  \n8                771         24.0         1838.0  \n9               1574         24.7         1660.5  \n\n[10 rows x 40 columns]",
      "text/html": "<div>\n<style scoped>\n    .dataframe tbody tr th:only-of-type {\n        vertical-align: middle;\n    }\n\n    .dataframe tbody tr th {\n        vertical-align: top;\n    }\n\n    .dataframe thead th {\n        text-align: right;\n    }\n</style>\n<table border=\"1\" class=\"dataframe\">\n  <thead>\n    <tr style=\"text-align: right;\">\n      <th></th>\n      <th>gameId</th>\n      <th>blueWins</th>\n      <th>blueWardsPlaced</th>\n      <th>blueWardsDestroyed</th>\n      <th>blueFirstBlood</th>\n      <th>blueKills</th>\n      <th>blueDeaths</th>\n      <th>blueAssists</th>\n      <th>blueEliteMonsters</th>\n      <th>blueDragons</th>\n      <th>...</th>\n      <th>redTowersDestroyed</th>\n      <th>redTotalGold</th>\n      <th>redAvgLevel</th>\n      <th>redTotalExperience</th>\n      <th>redTotalMinionsKilled</th>\n      <th>redTotalJungleMinionsKilled</th>\n      <th>redGoldDiff</th>\n      <th>redExperienceDiff</th>\n      <th>redCSPerMin</th>\n      <th>redGoldPerMin</th>\n    </tr>\n  </thead>\n  <tbody>\n    <tr>\n      <th>0</th>\n      <td>4519157822</td>\n      <td>0</td>\n      <td>28</td>\n      <td>2</td>\n      <td>1</td>\n      <td>9</td>\n      <td>6</td>\n      <td>11</td>\n      <td>0</td>\n      <td>0</td>\n      <td>...</td>\n      <td>0</td>\n      <td>16567</td>\n      <td>6.8</td>\n      <td>17047</td>\n      <td>197</td>\n      <td>55</td>\n      <td>-643</td>\n      <td>8</td>\n      <td>19.7</td>\n      <td>1656.7</td>\n    </tr>\n    <tr>\n      <th>1</th>\n      <td>4523371949</td>\n      <td>0</td>\n      <td>12</td>\n      <td>1</td>\n      <td>0</td>\n      <td>5</td>\n      <td>5</td>\n      <td>5</td>\n      <td>0</td>\n      <td>0</td>\n      <td>...</td>\n      <td>1</td>\n      <td>17620</td>\n      <td>6.8</td>\n      <td>17438</td>\n      <td>240</td>\n      <td>52</td>\n      <td>2908</td>\n      <td>1173</td>\n      <td>24.0</td>\n      <td>1762.0</td>\n    </tr>\n    <tr>\n      <th>2</th>\n      <td>4521474530</td>\n      <td>0</td>\n      <td>15</td>\n      <td>0</td>\n      <td>0</td>\n      <td>7</td>\n      <td>11</td>\n      <td>4</td>\n      <td>1</td>\n      <td>1</td>\n      <td>...</td>\n      <td>0</td>\n      <td>17285</td>\n      <td>6.8</td>\n      <td>17254</td>\n      <td>203</td>\n      <td>28</td>\n      <td>1172</td>\n      <td>1033</td>\n      <td>20.3</td>\n      <td>1728.5</td>\n    </tr>\n    <tr>\n      <th>3</th>\n      <td>4524384067</td>\n      <td>0</td>\n      <td>43</td>\n      <td>1</td>\n      <td>0</td>\n      <td>4</td>\n      <td>5</td>\n      <td>5</td>\n      <td>1</td>\n      <td>0</td>\n      <td>...</td>\n      <td>0</td>\n      <td>16478</td>\n      <td>7.0</td>\n      <td>17961</td>\n      <td>235</td>\n      <td>47</td>\n      <td>1321</td>\n      <td>7</td>\n      <td>23.5</td>\n      <td>1647.8</td>\n    </tr>\n    <tr>\n      <th>4</th>\n      <td>4436033771</td>\n      <td>0</td>\n      <td>75</td>\n      <td>4</td>\n      <td>0</td>\n      <td>6</td>\n      <td>6</td>\n      <td>6</td>\n      <td>0</td>\n      <td>0</td>\n      <td>...</td>\n      <td>0</td>\n      <td>17404</td>\n      <td>7.0</td>\n      <td>18313</td>\n      <td>225</td>\n      <td>67</td>\n      <td>1004</td>\n      <td>-230</td>\n      <td>22.5</td>\n      <td>1740.4</td>\n    </tr>\n    <tr>\n      <th>5</th>\n      <td>4475365709</td>\n      <td>1</td>\n      <td>18</td>\n      <td>0</td>\n      <td>0</td>\n      <td>5</td>\n      <td>3</td>\n      <td>6</td>\n      <td>1</td>\n      <td>1</td>\n      <td>...</td>\n      <td>0</td>\n      <td>15201</td>\n      <td>7.0</td>\n      <td>18060</td>\n      <td>221</td>\n      <td>59</td>\n      <td>-698</td>\n      <td>-101</td>\n      <td>22.1</td>\n      <td>1520.1</td>\n    </tr>\n    <tr>\n      <th>6</th>\n      <td>4493010632</td>\n      <td>1</td>\n      <td>18</td>\n      <td>3</td>\n      <td>1</td>\n      <td>7</td>\n      <td>6</td>\n      <td>7</td>\n      <td>1</td>\n      <td>1</td>\n      <td>...</td>\n      <td>0</td>\n      <td>14463</td>\n      <td>6.4</td>\n      <td>15404</td>\n      <td>164</td>\n      <td>35</td>\n      <td>-2411</td>\n      <td>-1563</td>\n      <td>16.4</td>\n      <td>1446.3</td>\n    </tr>\n    <tr>\n      <th>7</th>\n      <td>4496759358</td>\n      <td>0</td>\n      <td>16</td>\n      <td>2</td>\n      <td>0</td>\n      <td>5</td>\n      <td>13</td>\n      <td>3</td>\n      <td>0</td>\n      <td>0</td>\n      <td>...</td>\n      <td>0</td>\n      <td>17920</td>\n      <td>6.6</td>\n      <td>16938</td>\n      <td>157</td>\n      <td>54</td>\n      <td>2615</td>\n      <td>800</td>\n      <td>15.7</td>\n      <td>1792.0</td>\n    </tr>\n    <tr>\n      <th>8</th>\n      <td>4443048030</td>\n      <td>0</td>\n      <td>16</td>\n      <td>3</td>\n      <td>0</td>\n      <td>7</td>\n      <td>7</td>\n      <td>8</td>\n      <td>0</td>\n      <td>0</td>\n      <td>...</td>\n      <td>0</td>\n      <td>18380</td>\n      <td>7.2</td>\n      <td>19298</td>\n      <td>240</td>\n      <td>53</td>\n      <td>1979</td>\n      <td>771</td>\n      <td>24.0</td>\n      <td>1838.0</td>\n    </tr>\n    <tr>\n      <th>9</th>\n      <td>4509433346</td>\n      <td>1</td>\n      <td>13</td>\n      <td>1</td>\n      <td>1</td>\n      <td>4</td>\n      <td>5</td>\n      <td>5</td>\n      <td>1</td>\n      <td>1</td>\n      <td>...</td>\n      <td>0</td>\n      <td>16605</td>\n      <td>6.8</td>\n      <td>18379</td>\n      <td>247</td>\n      <td>43</td>\n      <td>1548</td>\n      <td>1574</td>\n      <td>24.7</td>\n      <td>1660.5</td>\n    </tr>\n  </tbody>\n</table>\n<p>10 rows × 40 columns</p>\n</div>"
     },
     "execution_count": 12,
     "metadata": {},
     "output_type": "execute_result"
    }
   ],
   "source": [
    "datos = pd.read_csv('lol.csv')\n",
    "datos.head(10)"
   ]
  },
  {
   "cell_type": "code",
   "execution_count": 13,
   "metadata": {
    "ExecuteTime": {
     "end_time": "2024-02-03T01:49:01.084493100Z",
     "start_time": "2024-02-03T01:49:01.004281400Z"
    }
   },
   "outputs": [],
   "source": [
    "X = datos.drop(\"blueWins\", axis=1)\n",
    "y = datos[\"blueWins\"].values"
   ]
  },
  {
   "cell_type": "code",
   "execution_count": 14,
   "metadata": {
    "ExecuteTime": {
     "end_time": "2024-02-03T01:49:01.101600500Z",
     "start_time": "2024-02-03T01:49:01.016484Z"
    }
   },
   "outputs": [
    {
     "data": {
      "text/plain": "       gameId  blueWardsPlaced  blueWardsDestroyed  blueFirstBlood  blueKills  \\\n0  4519157822               28                   2               1          9   \n1  4523371949               12                   1               0          5   \n2  4521474530               15                   0               0          7   \n3  4524384067               43                   1               0          4   \n4  4436033771               75                   4               0          6   \n\n   blueDeaths  blueAssists  blueEliteMonsters  blueDragons  blueHeralds  ...  \\\n0           6           11                  0            0            0  ...   \n1           5            5                  0            0            0  ...   \n2          11            4                  1            1            0  ...   \n3           5            5                  1            0            1  ...   \n4           6            6                  0            0            0  ...   \n\n   redTowersDestroyed  redTotalGold  redAvgLevel  redTotalExperience  \\\n0                   0         16567          6.8               17047   \n1                   1         17620          6.8               17438   \n2                   0         17285          6.8               17254   \n3                   0         16478          7.0               17961   \n4                   0         17404          7.0               18313   \n\n   redTotalMinionsKilled  redTotalJungleMinionsKilled  redGoldDiff  \\\n0                    197                           55         -643   \n1                    240                           52         2908   \n2                    203                           28         1172   \n3                    235                           47         1321   \n4                    225                           67         1004   \n\n   redExperienceDiff  redCSPerMin  redGoldPerMin  \n0                  8         19.7         1656.7  \n1               1173         24.0         1762.0  \n2               1033         20.3         1728.5  \n3                  7         23.5         1647.8  \n4               -230         22.5         1740.4  \n\n[5 rows x 39 columns]",
      "text/html": "<div>\n<style scoped>\n    .dataframe tbody tr th:only-of-type {\n        vertical-align: middle;\n    }\n\n    .dataframe tbody tr th {\n        vertical-align: top;\n    }\n\n    .dataframe thead th {\n        text-align: right;\n    }\n</style>\n<table border=\"1\" class=\"dataframe\">\n  <thead>\n    <tr style=\"text-align: right;\">\n      <th></th>\n      <th>gameId</th>\n      <th>blueWardsPlaced</th>\n      <th>blueWardsDestroyed</th>\n      <th>blueFirstBlood</th>\n      <th>blueKills</th>\n      <th>blueDeaths</th>\n      <th>blueAssists</th>\n      <th>blueEliteMonsters</th>\n      <th>blueDragons</th>\n      <th>blueHeralds</th>\n      <th>...</th>\n      <th>redTowersDestroyed</th>\n      <th>redTotalGold</th>\n      <th>redAvgLevel</th>\n      <th>redTotalExperience</th>\n      <th>redTotalMinionsKilled</th>\n      <th>redTotalJungleMinionsKilled</th>\n      <th>redGoldDiff</th>\n      <th>redExperienceDiff</th>\n      <th>redCSPerMin</th>\n      <th>redGoldPerMin</th>\n    </tr>\n  </thead>\n  <tbody>\n    <tr>\n      <th>0</th>\n      <td>4519157822</td>\n      <td>28</td>\n      <td>2</td>\n      <td>1</td>\n      <td>9</td>\n      <td>6</td>\n      <td>11</td>\n      <td>0</td>\n      <td>0</td>\n      <td>0</td>\n      <td>...</td>\n      <td>0</td>\n      <td>16567</td>\n      <td>6.8</td>\n      <td>17047</td>\n      <td>197</td>\n      <td>55</td>\n      <td>-643</td>\n      <td>8</td>\n      <td>19.7</td>\n      <td>1656.7</td>\n    </tr>\n    <tr>\n      <th>1</th>\n      <td>4523371949</td>\n      <td>12</td>\n      <td>1</td>\n      <td>0</td>\n      <td>5</td>\n      <td>5</td>\n      <td>5</td>\n      <td>0</td>\n      <td>0</td>\n      <td>0</td>\n      <td>...</td>\n      <td>1</td>\n      <td>17620</td>\n      <td>6.8</td>\n      <td>17438</td>\n      <td>240</td>\n      <td>52</td>\n      <td>2908</td>\n      <td>1173</td>\n      <td>24.0</td>\n      <td>1762.0</td>\n    </tr>\n    <tr>\n      <th>2</th>\n      <td>4521474530</td>\n      <td>15</td>\n      <td>0</td>\n      <td>0</td>\n      <td>7</td>\n      <td>11</td>\n      <td>4</td>\n      <td>1</td>\n      <td>1</td>\n      <td>0</td>\n      <td>...</td>\n      <td>0</td>\n      <td>17285</td>\n      <td>6.8</td>\n      <td>17254</td>\n      <td>203</td>\n      <td>28</td>\n      <td>1172</td>\n      <td>1033</td>\n      <td>20.3</td>\n      <td>1728.5</td>\n    </tr>\n    <tr>\n      <th>3</th>\n      <td>4524384067</td>\n      <td>43</td>\n      <td>1</td>\n      <td>0</td>\n      <td>4</td>\n      <td>5</td>\n      <td>5</td>\n      <td>1</td>\n      <td>0</td>\n      <td>1</td>\n      <td>...</td>\n      <td>0</td>\n      <td>16478</td>\n      <td>7.0</td>\n      <td>17961</td>\n      <td>235</td>\n      <td>47</td>\n      <td>1321</td>\n      <td>7</td>\n      <td>23.5</td>\n      <td>1647.8</td>\n    </tr>\n    <tr>\n      <th>4</th>\n      <td>4436033771</td>\n      <td>75</td>\n      <td>4</td>\n      <td>0</td>\n      <td>6</td>\n      <td>6</td>\n      <td>6</td>\n      <td>0</td>\n      <td>0</td>\n      <td>0</td>\n      <td>...</td>\n      <td>0</td>\n      <td>17404</td>\n      <td>7.0</td>\n      <td>18313</td>\n      <td>225</td>\n      <td>67</td>\n      <td>1004</td>\n      <td>-230</td>\n      <td>22.5</td>\n      <td>1740.4</td>\n    </tr>\n  </tbody>\n</table>\n<p>5 rows × 39 columns</p>\n</div>"
     },
     "execution_count": 14,
     "metadata": {},
     "output_type": "execute_result"
    }
   ],
   "source": [
    "X.head()"
   ]
  },
  {
   "cell_type": "markdown",
   "metadata": {},
   "source": [
    "Los datos fueron normalizados debido a que muchos de ellos se encontraban esparcidos en un amplio rango, lo que hacia que el entrenamiento del modelo SVM se extendiera a más de 1 hora por modelo."
   ]
  },
  {
   "cell_type": "code",
   "execution_count": 15,
   "metadata": {
    "ExecuteTime": {
     "end_time": "2024-02-03T01:49:01.307861900Z",
     "start_time": "2024-02-03T01:49:01.034382300Z"
    }
   },
   "outputs": [],
   "source": [
    "from sklearn.preprocessing import StandardScaler\n",
    "\n",
    "escalador = StandardScaler()\n",
    "X = pd.DataFrame(escalador.fit_transform(X), columns=X.columns)"
   ]
  },
  {
   "cell_type": "code",
   "execution_count": 16,
   "metadata": {
    "ExecuteTime": {
     "end_time": "2024-02-03T01:49:01.356664700Z",
     "start_time": "2024-02-03T01:49:01.205947400Z"
    }
   },
   "outputs": [
    {
     "data": {
      "text/plain": "     gameId  blueWardsPlaced  blueWardsDestroyed  blueFirstBlood  blueKills  \\\n0  0.691784         0.316996           -0.379275        0.990429   0.935301   \n1  0.844625        -0.570992           -0.839069       -1.009663  -0.393216   \n2  0.775808        -0.404494           -1.298863       -1.009663   0.271042   \n3  0.881333         1.149484           -0.839069       -1.009663  -0.725346   \n4 -2.323029         2.925460            0.540312       -1.009663  -0.061087   \n\n   blueDeaths  blueAssists  blueEliteMonsters  blueDragons  blueHeralds  ...  \\\n0   -0.046926     1.071495          -0.879231    -0.753226    -0.481132  ...   \n1   -0.387796    -0.404768          -0.879231    -0.753226    -0.481132  ...   \n2    1.657424    -0.650812           0.719503     1.327623    -0.481132  ...   \n3   -0.387796    -0.404768           0.719503    -0.753226     2.078430  ...   \n4   -0.046926    -0.158724          -0.879231    -0.753226    -0.481132  ...   \n\n   redTowersDestroyed  redTotalGold  redAvgLevel  redTotalExperience  \\\n0           -0.198353      0.052293    -0.410475           -0.763215   \n1            4.412301      0.758619    -0.410475           -0.436980   \n2           -0.198353      0.533909    -0.410475           -0.590502   \n3           -0.198353     -0.007406     0.244627           -0.000609   \n4           -0.198353      0.613731     0.244627            0.293085   \n\n   redTotalMinionsKilled  redTotalJungleMinionsKilled  redGoldDiff  \\\n0              -0.928741                     0.367685    -0.256228   \n1               1.033784                     0.068504     1.191254   \n2              -0.654900                    -2.324944     0.483614   \n3               0.805583                    -0.430131     0.544350   \n4               0.349182                     1.564408     0.415133   \n\n   redExperienceDiff  redCSPerMin  redGoldPerMin  \n0          -0.013342    -0.928741       0.052293  \n1           0.593342     1.033784       0.758619  \n2           0.520436    -0.654900       0.533909  \n3          -0.013863     0.805583      -0.007406  \n4          -0.137283     0.349182       0.613731  \n\n[5 rows x 39 columns]",
      "text/html": "<div>\n<style scoped>\n    .dataframe tbody tr th:only-of-type {\n        vertical-align: middle;\n    }\n\n    .dataframe tbody tr th {\n        vertical-align: top;\n    }\n\n    .dataframe thead th {\n        text-align: right;\n    }\n</style>\n<table border=\"1\" class=\"dataframe\">\n  <thead>\n    <tr style=\"text-align: right;\">\n      <th></th>\n      <th>gameId</th>\n      <th>blueWardsPlaced</th>\n      <th>blueWardsDestroyed</th>\n      <th>blueFirstBlood</th>\n      <th>blueKills</th>\n      <th>blueDeaths</th>\n      <th>blueAssists</th>\n      <th>blueEliteMonsters</th>\n      <th>blueDragons</th>\n      <th>blueHeralds</th>\n      <th>...</th>\n      <th>redTowersDestroyed</th>\n      <th>redTotalGold</th>\n      <th>redAvgLevel</th>\n      <th>redTotalExperience</th>\n      <th>redTotalMinionsKilled</th>\n      <th>redTotalJungleMinionsKilled</th>\n      <th>redGoldDiff</th>\n      <th>redExperienceDiff</th>\n      <th>redCSPerMin</th>\n      <th>redGoldPerMin</th>\n    </tr>\n  </thead>\n  <tbody>\n    <tr>\n      <th>0</th>\n      <td>0.691784</td>\n      <td>0.316996</td>\n      <td>-0.379275</td>\n      <td>0.990429</td>\n      <td>0.935301</td>\n      <td>-0.046926</td>\n      <td>1.071495</td>\n      <td>-0.879231</td>\n      <td>-0.753226</td>\n      <td>-0.481132</td>\n      <td>...</td>\n      <td>-0.198353</td>\n      <td>0.052293</td>\n      <td>-0.410475</td>\n      <td>-0.763215</td>\n      <td>-0.928741</td>\n      <td>0.367685</td>\n      <td>-0.256228</td>\n      <td>-0.013342</td>\n      <td>-0.928741</td>\n      <td>0.052293</td>\n    </tr>\n    <tr>\n      <th>1</th>\n      <td>0.844625</td>\n      <td>-0.570992</td>\n      <td>-0.839069</td>\n      <td>-1.009663</td>\n      <td>-0.393216</td>\n      <td>-0.387796</td>\n      <td>-0.404768</td>\n      <td>-0.879231</td>\n      <td>-0.753226</td>\n      <td>-0.481132</td>\n      <td>...</td>\n      <td>4.412301</td>\n      <td>0.758619</td>\n      <td>-0.410475</td>\n      <td>-0.436980</td>\n      <td>1.033784</td>\n      <td>0.068504</td>\n      <td>1.191254</td>\n      <td>0.593342</td>\n      <td>1.033784</td>\n      <td>0.758619</td>\n    </tr>\n    <tr>\n      <th>2</th>\n      <td>0.775808</td>\n      <td>-0.404494</td>\n      <td>-1.298863</td>\n      <td>-1.009663</td>\n      <td>0.271042</td>\n      <td>1.657424</td>\n      <td>-0.650812</td>\n      <td>0.719503</td>\n      <td>1.327623</td>\n      <td>-0.481132</td>\n      <td>...</td>\n      <td>-0.198353</td>\n      <td>0.533909</td>\n      <td>-0.410475</td>\n      <td>-0.590502</td>\n      <td>-0.654900</td>\n      <td>-2.324944</td>\n      <td>0.483614</td>\n      <td>0.520436</td>\n      <td>-0.654900</td>\n      <td>0.533909</td>\n    </tr>\n    <tr>\n      <th>3</th>\n      <td>0.881333</td>\n      <td>1.149484</td>\n      <td>-0.839069</td>\n      <td>-1.009663</td>\n      <td>-0.725346</td>\n      <td>-0.387796</td>\n      <td>-0.404768</td>\n      <td>0.719503</td>\n      <td>-0.753226</td>\n      <td>2.078430</td>\n      <td>...</td>\n      <td>-0.198353</td>\n      <td>-0.007406</td>\n      <td>0.244627</td>\n      <td>-0.000609</td>\n      <td>0.805583</td>\n      <td>-0.430131</td>\n      <td>0.544350</td>\n      <td>-0.013863</td>\n      <td>0.805583</td>\n      <td>-0.007406</td>\n    </tr>\n    <tr>\n      <th>4</th>\n      <td>-2.323029</td>\n      <td>2.925460</td>\n      <td>0.540312</td>\n      <td>-1.009663</td>\n      <td>-0.061087</td>\n      <td>-0.046926</td>\n      <td>-0.158724</td>\n      <td>-0.879231</td>\n      <td>-0.753226</td>\n      <td>-0.481132</td>\n      <td>...</td>\n      <td>-0.198353</td>\n      <td>0.613731</td>\n      <td>0.244627</td>\n      <td>0.293085</td>\n      <td>0.349182</td>\n      <td>1.564408</td>\n      <td>0.415133</td>\n      <td>-0.137283</td>\n      <td>0.349182</td>\n      <td>0.613731</td>\n    </tr>\n  </tbody>\n</table>\n<p>5 rows × 39 columns</p>\n</div>"
     },
     "execution_count": 16,
     "metadata": {},
     "output_type": "execute_result"
    }
   ],
   "source": [
    "X.head()"
   ]
  },
  {
   "cell_type": "code",
   "execution_count": 17,
   "metadata": {
    "ExecuteTime": {
     "end_time": "2024-02-03T01:49:01.395491100Z",
     "start_time": "2024-02-03T01:49:01.223441Z"
    }
   },
   "outputs": [
    {
     "data": {
      "text/plain": "array([0, 0, 0, ..., 0, 0, 1], dtype=int64)"
     },
     "execution_count": 17,
     "metadata": {},
     "output_type": "execute_result"
    }
   ],
   "source": [
    "y"
   ]
  },
  {
   "cell_type": "markdown",
   "metadata": {},
   "source": [
    "Se seleccionarán 2 columnas (features) por cada versión, y esto es así debido a que se desea comparar contra la versión del laboratorio anterior, en la cual solo se utilizaron 2 columnas, además se utilizará la métrica de acurracy (precisión) debido a que nos otorga una métrica general del desempeño del modelo, además se tomó esta métrica como la elegida debido a que los datos se encuentran balanceados entre las diferentes columnas."
   ]
  },
  {
   "cell_type": "markdown",
   "metadata": {},
   "source": [
    "### Selección de Características Univariate"
   ]
  },
  {
   "cell_type": "code",
   "execution_count": 18,
   "metadata": {
    "ExecuteTime": {
     "end_time": "2024-02-03T01:49:01.539349700Z",
     "start_time": "2024-02-03T01:49:01.230805600Z"
    }
   },
   "outputs": [
    {
     "name": "stdout",
     "output_type": "stream",
     "text": [
      "Index(['blueGoldDiff', 'redGoldDiff'], dtype='object')\n"
     ]
    }
   ],
   "source": [
    "from sklearn.feature_selection import SelectKBest, f_classif\n",
    "KBestSelector = SelectKBest(f_classif, k = 2)\n",
    "KBestSelector.fit(X, y)\n",
    "selected_columns_indice = KBestSelector.get_support(indices=True)\n",
    "selected_columns = X.columns[selected_columns_indice]\n",
    "print(selected_columns)"
   ]
  },
  {
   "cell_type": "code",
   "execution_count": 19,
   "metadata": {
    "ExecuteTime": {
     "end_time": "2024-02-03T01:49:01.541871400Z",
     "start_time": "2024-02-03T01:49:01.427601900Z"
    }
   },
   "outputs": [
    {
     "data": {
      "text/plain": "array([[ 0.25622839, -0.25622839],\n       [-1.191254  ,  1.191254  ],\n       [-0.48361406,  0.48361406],\n       ...,\n       [-0.99070167,  0.99070167],\n       [-0.34787437,  0.34787437],\n       [ 0.37199437, -0.37199437]])"
     },
     "execution_count": 19,
     "metadata": {},
     "output_type": "execute_result"
    }
   ],
   "source": [
    "X_new = X[selected_columns].values\n",
    "X_new"
   ]
  },
  {
   "cell_type": "code",
   "execution_count": 20,
   "metadata": {
    "ExecuteTime": {
     "end_time": "2024-02-03T01:49:01.544345400Z",
     "start_time": "2024-02-03T01:49:01.436346500Z"
    }
   },
   "outputs": [],
   "source": [
    "#Dividir el conjunto de datos en entrenamiento y prueba\n",
    "from sklearn.model_selection import train_test_split\n",
    "X_entreno, X_prueba, y_entreno, y_prueba = train_test_split(X_new, y, test_size = 0.2, random_state = 1)"
   ]
  },
  {
   "cell_type": "code",
   "execution_count": 21,
   "metadata": {
    "ExecuteTime": {
     "end_time": "2024-02-03T01:49:03.200462Z",
     "start_time": "2024-02-03T01:49:01.443452100Z"
    }
   },
   "outputs": [
    {
     "data": {
      "text/plain": "SVC(kernel='linear')",
      "text/html": "<style>#sk-container-id-1 {color: black;}#sk-container-id-1 pre{padding: 0;}#sk-container-id-1 div.sk-toggleable {background-color: white;}#sk-container-id-1 label.sk-toggleable__label {cursor: pointer;display: block;width: 100%;margin-bottom: 0;padding: 0.3em;box-sizing: border-box;text-align: center;}#sk-container-id-1 label.sk-toggleable__label-arrow:before {content: \"▸\";float: left;margin-right: 0.25em;color: #696969;}#sk-container-id-1 label.sk-toggleable__label-arrow:hover:before {color: black;}#sk-container-id-1 div.sk-estimator:hover label.sk-toggleable__label-arrow:before {color: black;}#sk-container-id-1 div.sk-toggleable__content {max-height: 0;max-width: 0;overflow: hidden;text-align: left;background-color: #f0f8ff;}#sk-container-id-1 div.sk-toggleable__content pre {margin: 0.2em;color: black;border-radius: 0.25em;background-color: #f0f8ff;}#sk-container-id-1 input.sk-toggleable__control:checked~div.sk-toggleable__content {max-height: 200px;max-width: 100%;overflow: auto;}#sk-container-id-1 input.sk-toggleable__control:checked~label.sk-toggleable__label-arrow:before {content: \"▾\";}#sk-container-id-1 div.sk-estimator input.sk-toggleable__control:checked~label.sk-toggleable__label {background-color: #d4ebff;}#sk-container-id-1 div.sk-label input.sk-toggleable__control:checked~label.sk-toggleable__label {background-color: #d4ebff;}#sk-container-id-1 input.sk-hidden--visually {border: 0;clip: rect(1px 1px 1px 1px);clip: rect(1px, 1px, 1px, 1px);height: 1px;margin: -1px;overflow: hidden;padding: 0;position: absolute;width: 1px;}#sk-container-id-1 div.sk-estimator {font-family: monospace;background-color: #f0f8ff;border: 1px dotted black;border-radius: 0.25em;box-sizing: border-box;margin-bottom: 0.5em;}#sk-container-id-1 div.sk-estimator:hover {background-color: #d4ebff;}#sk-container-id-1 div.sk-parallel-item::after {content: \"\";width: 100%;border-bottom: 1px solid gray;flex-grow: 1;}#sk-container-id-1 div.sk-label:hover label.sk-toggleable__label {background-color: #d4ebff;}#sk-container-id-1 div.sk-serial::before {content: \"\";position: absolute;border-left: 1px solid gray;box-sizing: border-box;top: 0;bottom: 0;left: 50%;z-index: 0;}#sk-container-id-1 div.sk-serial {display: flex;flex-direction: column;align-items: center;background-color: white;padding-right: 0.2em;padding-left: 0.2em;position: relative;}#sk-container-id-1 div.sk-item {position: relative;z-index: 1;}#sk-container-id-1 div.sk-parallel {display: flex;align-items: stretch;justify-content: center;background-color: white;position: relative;}#sk-container-id-1 div.sk-item::before, #sk-container-id-1 div.sk-parallel-item::before {content: \"\";position: absolute;border-left: 1px solid gray;box-sizing: border-box;top: 0;bottom: 0;left: 50%;z-index: -1;}#sk-container-id-1 div.sk-parallel-item {display: flex;flex-direction: column;z-index: 1;position: relative;background-color: white;}#sk-container-id-1 div.sk-parallel-item:first-child::after {align-self: flex-end;width: 50%;}#sk-container-id-1 div.sk-parallel-item:last-child::after {align-self: flex-start;width: 50%;}#sk-container-id-1 div.sk-parallel-item:only-child::after {width: 0;}#sk-container-id-1 div.sk-dashed-wrapped {border: 1px dashed gray;margin: 0 0.4em 0.5em 0.4em;box-sizing: border-box;padding-bottom: 0.4em;background-color: white;}#sk-container-id-1 div.sk-label label {font-family: monospace;font-weight: bold;display: inline-block;line-height: 1.2em;}#sk-container-id-1 div.sk-label-container {text-align: center;}#sk-container-id-1 div.sk-container {/* jupyter's `normalize.less` sets `[hidden] { display: none; }` but bootstrap.min.css set `[hidden] { display: none !important; }` so we also need the `!important` here to be able to override the default hidden behavior on the sphinx rendered scikit-learn.org. See: https://github.com/scikit-learn/scikit-learn/issues/21755 */display: inline-block !important;position: relative;}#sk-container-id-1 div.sk-text-repr-fallback {display: none;}</style><div id=\"sk-container-id-1\" class=\"sk-top-container\"><div class=\"sk-text-repr-fallback\"><pre>SVC(kernel=&#x27;linear&#x27;)</pre><b>In a Jupyter environment, please rerun this cell to show the HTML representation or trust the notebook. <br />On GitHub, the HTML representation is unable to render, please try loading this page with nbviewer.org.</b></div><div class=\"sk-container\" hidden><div class=\"sk-item\"><div class=\"sk-estimator sk-toggleable\"><input class=\"sk-toggleable__control sk-hidden--visually\" id=\"sk-estimator-id-1\" type=\"checkbox\" checked><label for=\"sk-estimator-id-1\" class=\"sk-toggleable__label sk-toggleable__label-arrow\">SVC</label><div class=\"sk-toggleable__content\"><pre>SVC(kernel=&#x27;linear&#x27;)</pre></div></div></div></div></div>"
     },
     "execution_count": 21,
     "metadata": {},
     "output_type": "execute_result"
    }
   ],
   "source": [
    "# Entrene el modelo de SVM con el conjunto de entrenamiento\n",
    "from sklearn.svm import SVC\n",
    "model = SVC(kernel='linear')\n",
    "model.fit(X_entreno, y_entreno)"
   ]
  },
  {
   "cell_type": "code",
   "execution_count": 22,
   "metadata": {
    "ExecuteTime": {
     "end_time": "2024-02-03T01:49:03.332743400Z",
     "start_time": "2024-02-03T01:49:03.196373500Z"
    }
   },
   "outputs": [
    {
     "name": "stdout",
     "output_type": "stream",
     "text": [
      "accuracy_score:  0.728744939271255\n",
      "classification_report: \n",
      "               precision    recall  f1-score   support\n",
      "\n",
      "           0       0.74      0.72      0.73      1002\n",
      "           1       0.72      0.74      0.73       974\n",
      "\n",
      "    accuracy                           0.73      1976\n",
      "   macro avg       0.73      0.73      0.73      1976\n",
      "weighted avg       0.73      0.73      0.73      1976\n"
     ]
    }
   ],
   "source": [
    "# Predicción y métricas de evaluación\n",
    "from sklearn.metrics import accuracy_score, classification_report\n",
    "y_pred = model.predict(X_prueba)\n",
    "print(\"accuracy_score: \", accuracy_score(y_prueba, y_pred))\n",
    "print(\"classification_report: \\n\", classification_report(y_prueba, y_pred))"
   ]
  },
  {
   "cell_type": "markdown",
   "metadata": {},
   "source": [
    "### Tunning"
   ]
  },
  {
   "cell_type": "code",
   "execution_count": 23,
   "metadata": {
    "ExecuteTime": {
     "end_time": "2024-02-03T01:49:17.445318200Z",
     "start_time": "2024-02-03T01:49:03.332743400Z"
    }
   },
   "outputs": [
    {
     "ename": "KeyboardInterrupt",
     "evalue": "",
     "output_type": "error",
     "traceback": [
      "\u001B[1;31m---------------------------------------------------------------------------\u001B[0m",
      "\u001B[1;31mKeyboardInterrupt\u001B[0m                         Traceback (most recent call last)",
      "Cell \u001B[1;32mIn[23], line 15\u001B[0m\n\u001B[0;32m      6\u001B[0m param_grid \u001B[38;5;241m=\u001B[39m {\n\u001B[0;32m      7\u001B[0m     \u001B[38;5;124m'\u001B[39m\u001B[38;5;124mC\u001B[39m\u001B[38;5;124m'\u001B[39m: [\u001B[38;5;241m0.1\u001B[39m, \u001B[38;5;241m1\u001B[39m, \u001B[38;5;241m10\u001B[39m, \u001B[38;5;241m100\u001B[39m], \n\u001B[0;32m      8\u001B[0m     \u001B[38;5;124m'\u001B[39m\u001B[38;5;124mgamma\u001B[39m\u001B[38;5;124m'\u001B[39m: [\u001B[38;5;124m'\u001B[39m\u001B[38;5;124mscale\u001B[39m\u001B[38;5;124m'\u001B[39m, \u001B[38;5;124m'\u001B[39m\u001B[38;5;124mauto\u001B[39m\u001B[38;5;124m'\u001B[39m], \n\u001B[0;32m      9\u001B[0m     \u001B[38;5;124m'\u001B[39m\u001B[38;5;124mkernel\u001B[39m\u001B[38;5;124m'\u001B[39m: [\u001B[38;5;124m'\u001B[39m\u001B[38;5;124mlinear\u001B[39m\u001B[38;5;124m'\u001B[39m, \u001B[38;5;124m'\u001B[39m\u001B[38;5;124mrbf\u001B[39m\u001B[38;5;124m'\u001B[39m]  \n\u001B[0;32m     10\u001B[0m }\n\u001B[0;32m     13\u001B[0m grid_search \u001B[38;5;241m=\u001B[39m GridSearchCV(SVC(), param_grid, cv\u001B[38;5;241m=\u001B[39m\u001B[38;5;241m5\u001B[39m, scoring\u001B[38;5;241m=\u001B[39m\u001B[38;5;124m'\u001B[39m\u001B[38;5;124maccuracy\u001B[39m\u001B[38;5;124m'\u001B[39m, n_jobs\u001B[38;5;241m=\u001B[39m\u001B[38;5;241m-\u001B[39m\u001B[38;5;241m1\u001B[39m)\n\u001B[1;32m---> 15\u001B[0m \u001B[43mgrid_search\u001B[49m\u001B[38;5;241;43m.\u001B[39;49m\u001B[43mfit\u001B[49m\u001B[43m(\u001B[49m\u001B[43mX_entreno\u001B[49m\u001B[43m,\u001B[49m\u001B[43m \u001B[49m\u001B[43my_entreno\u001B[49m\u001B[43m)\u001B[49m\n\u001B[0;32m     17\u001B[0m best_model \u001B[38;5;241m=\u001B[39m grid_search\u001B[38;5;241m.\u001B[39mbest_estimator_\n\u001B[0;32m     18\u001B[0m best_params \u001B[38;5;241m=\u001B[39m grid_search\u001B[38;5;241m.\u001B[39mbest_params_\n",
      "File \u001B[1;32m~\\AppData\\Roaming\\Python\\Python311\\site-packages\\sklearn\\base.py:1152\u001B[0m, in \u001B[0;36m_fit_context.<locals>.decorator.<locals>.wrapper\u001B[1;34m(estimator, *args, **kwargs)\u001B[0m\n\u001B[0;32m   1145\u001B[0m     estimator\u001B[38;5;241m.\u001B[39m_validate_params()\n\u001B[0;32m   1147\u001B[0m \u001B[38;5;28;01mwith\u001B[39;00m config_context(\n\u001B[0;32m   1148\u001B[0m     skip_parameter_validation\u001B[38;5;241m=\u001B[39m(\n\u001B[0;32m   1149\u001B[0m         prefer_skip_nested_validation \u001B[38;5;129;01mor\u001B[39;00m global_skip_validation\n\u001B[0;32m   1150\u001B[0m     )\n\u001B[0;32m   1151\u001B[0m ):\n\u001B[1;32m-> 1152\u001B[0m     \u001B[38;5;28;01mreturn\u001B[39;00m \u001B[43mfit_method\u001B[49m\u001B[43m(\u001B[49m\u001B[43mestimator\u001B[49m\u001B[43m,\u001B[49m\u001B[43m \u001B[49m\u001B[38;5;241;43m*\u001B[39;49m\u001B[43margs\u001B[49m\u001B[43m,\u001B[49m\u001B[43m \u001B[49m\u001B[38;5;241;43m*\u001B[39;49m\u001B[38;5;241;43m*\u001B[39;49m\u001B[43mkwargs\u001B[49m\u001B[43m)\u001B[49m\n",
      "File \u001B[1;32m~\\AppData\\Roaming\\Python\\Python311\\site-packages\\sklearn\\model_selection\\_search.py:898\u001B[0m, in \u001B[0;36mBaseSearchCV.fit\u001B[1;34m(self, X, y, groups, **fit_params)\u001B[0m\n\u001B[0;32m    892\u001B[0m     results \u001B[38;5;241m=\u001B[39m \u001B[38;5;28mself\u001B[39m\u001B[38;5;241m.\u001B[39m_format_results(\n\u001B[0;32m    893\u001B[0m         all_candidate_params, n_splits, all_out, all_more_results\n\u001B[0;32m    894\u001B[0m     )\n\u001B[0;32m    896\u001B[0m     \u001B[38;5;28;01mreturn\u001B[39;00m results\n\u001B[1;32m--> 898\u001B[0m \u001B[38;5;28;43mself\u001B[39;49m\u001B[38;5;241;43m.\u001B[39;49m\u001B[43m_run_search\u001B[49m\u001B[43m(\u001B[49m\u001B[43mevaluate_candidates\u001B[49m\u001B[43m)\u001B[49m\n\u001B[0;32m    900\u001B[0m \u001B[38;5;66;03m# multimetric is determined here because in the case of a callable\u001B[39;00m\n\u001B[0;32m    901\u001B[0m \u001B[38;5;66;03m# self.scoring the return type is only known after calling\u001B[39;00m\n\u001B[0;32m    902\u001B[0m first_test_score \u001B[38;5;241m=\u001B[39m all_out[\u001B[38;5;241m0\u001B[39m][\u001B[38;5;124m\"\u001B[39m\u001B[38;5;124mtest_scores\u001B[39m\u001B[38;5;124m\"\u001B[39m]\n",
      "File \u001B[1;32m~\\AppData\\Roaming\\Python\\Python311\\site-packages\\sklearn\\model_selection\\_search.py:1422\u001B[0m, in \u001B[0;36mGridSearchCV._run_search\u001B[1;34m(self, evaluate_candidates)\u001B[0m\n\u001B[0;32m   1420\u001B[0m \u001B[38;5;28;01mdef\u001B[39;00m \u001B[38;5;21m_run_search\u001B[39m(\u001B[38;5;28mself\u001B[39m, evaluate_candidates):\n\u001B[0;32m   1421\u001B[0m \u001B[38;5;250m    \u001B[39m\u001B[38;5;124;03m\"\"\"Search all candidates in param_grid\"\"\"\u001B[39;00m\n\u001B[1;32m-> 1422\u001B[0m     \u001B[43mevaluate_candidates\u001B[49m\u001B[43m(\u001B[49m\u001B[43mParameterGrid\u001B[49m\u001B[43m(\u001B[49m\u001B[38;5;28;43mself\u001B[39;49m\u001B[38;5;241;43m.\u001B[39;49m\u001B[43mparam_grid\u001B[49m\u001B[43m)\u001B[49m\u001B[43m)\u001B[49m\n",
      "File \u001B[1;32m~\\AppData\\Roaming\\Python\\Python311\\site-packages\\sklearn\\model_selection\\_search.py:845\u001B[0m, in \u001B[0;36mBaseSearchCV.fit.<locals>.evaluate_candidates\u001B[1;34m(candidate_params, cv, more_results)\u001B[0m\n\u001B[0;32m    837\u001B[0m \u001B[38;5;28;01mif\u001B[39;00m \u001B[38;5;28mself\u001B[39m\u001B[38;5;241m.\u001B[39mverbose \u001B[38;5;241m>\u001B[39m \u001B[38;5;241m0\u001B[39m:\n\u001B[0;32m    838\u001B[0m     \u001B[38;5;28mprint\u001B[39m(\n\u001B[0;32m    839\u001B[0m         \u001B[38;5;124m\"\u001B[39m\u001B[38;5;124mFitting \u001B[39m\u001B[38;5;132;01m{0}\u001B[39;00m\u001B[38;5;124m folds for each of \u001B[39m\u001B[38;5;132;01m{1}\u001B[39;00m\u001B[38;5;124m candidates,\u001B[39m\u001B[38;5;124m\"\u001B[39m\n\u001B[0;32m    840\u001B[0m         \u001B[38;5;124m\"\u001B[39m\u001B[38;5;124m totalling \u001B[39m\u001B[38;5;132;01m{2}\u001B[39;00m\u001B[38;5;124m fits\u001B[39m\u001B[38;5;124m\"\u001B[39m\u001B[38;5;241m.\u001B[39mformat(\n\u001B[0;32m    841\u001B[0m             n_splits, n_candidates, n_candidates \u001B[38;5;241m*\u001B[39m n_splits\n\u001B[0;32m    842\u001B[0m         )\n\u001B[0;32m    843\u001B[0m     )\n\u001B[1;32m--> 845\u001B[0m out \u001B[38;5;241m=\u001B[39m \u001B[43mparallel\u001B[49m\u001B[43m(\u001B[49m\n\u001B[0;32m    846\u001B[0m \u001B[43m    \u001B[49m\u001B[43mdelayed\u001B[49m\u001B[43m(\u001B[49m\u001B[43m_fit_and_score\u001B[49m\u001B[43m)\u001B[49m\u001B[43m(\u001B[49m\n\u001B[0;32m    847\u001B[0m \u001B[43m        \u001B[49m\u001B[43mclone\u001B[49m\u001B[43m(\u001B[49m\u001B[43mbase_estimator\u001B[49m\u001B[43m)\u001B[49m\u001B[43m,\u001B[49m\n\u001B[0;32m    848\u001B[0m \u001B[43m        \u001B[49m\u001B[43mX\u001B[49m\u001B[43m,\u001B[49m\n\u001B[0;32m    849\u001B[0m \u001B[43m        \u001B[49m\u001B[43my\u001B[49m\u001B[43m,\u001B[49m\n\u001B[0;32m    850\u001B[0m \u001B[43m        \u001B[49m\u001B[43mtrain\u001B[49m\u001B[38;5;241;43m=\u001B[39;49m\u001B[43mtrain\u001B[49m\u001B[43m,\u001B[49m\n\u001B[0;32m    851\u001B[0m \u001B[43m        \u001B[49m\u001B[43mtest\u001B[49m\u001B[38;5;241;43m=\u001B[39;49m\u001B[43mtest\u001B[49m\u001B[43m,\u001B[49m\n\u001B[0;32m    852\u001B[0m \u001B[43m        \u001B[49m\u001B[43mparameters\u001B[49m\u001B[38;5;241;43m=\u001B[39;49m\u001B[43mparameters\u001B[49m\u001B[43m,\u001B[49m\n\u001B[0;32m    853\u001B[0m \u001B[43m        \u001B[49m\u001B[43msplit_progress\u001B[49m\u001B[38;5;241;43m=\u001B[39;49m\u001B[43m(\u001B[49m\u001B[43msplit_idx\u001B[49m\u001B[43m,\u001B[49m\u001B[43m \u001B[49m\u001B[43mn_splits\u001B[49m\u001B[43m)\u001B[49m\u001B[43m,\u001B[49m\n\u001B[0;32m    854\u001B[0m \u001B[43m        \u001B[49m\u001B[43mcandidate_progress\u001B[49m\u001B[38;5;241;43m=\u001B[39;49m\u001B[43m(\u001B[49m\u001B[43mcand_idx\u001B[49m\u001B[43m,\u001B[49m\u001B[43m \u001B[49m\u001B[43mn_candidates\u001B[49m\u001B[43m)\u001B[49m\u001B[43m,\u001B[49m\n\u001B[0;32m    855\u001B[0m \u001B[43m        \u001B[49m\u001B[38;5;241;43m*\u001B[39;49m\u001B[38;5;241;43m*\u001B[39;49m\u001B[43mfit_and_score_kwargs\u001B[49m\u001B[43m,\u001B[49m\n\u001B[0;32m    856\u001B[0m \u001B[43m    \u001B[49m\u001B[43m)\u001B[49m\n\u001B[0;32m    857\u001B[0m \u001B[43m    \u001B[49m\u001B[38;5;28;43;01mfor\u001B[39;49;00m\u001B[43m \u001B[49m\u001B[43m(\u001B[49m\u001B[43mcand_idx\u001B[49m\u001B[43m,\u001B[49m\u001B[43m \u001B[49m\u001B[43mparameters\u001B[49m\u001B[43m)\u001B[49m\u001B[43m,\u001B[49m\u001B[43m \u001B[49m\u001B[43m(\u001B[49m\u001B[43msplit_idx\u001B[49m\u001B[43m,\u001B[49m\u001B[43m \u001B[49m\u001B[43m(\u001B[49m\u001B[43mtrain\u001B[49m\u001B[43m,\u001B[49m\u001B[43m \u001B[49m\u001B[43mtest\u001B[49m\u001B[43m)\u001B[49m\u001B[43m)\u001B[49m\u001B[43m \u001B[49m\u001B[38;5;129;43;01min\u001B[39;49;00m\u001B[43m \u001B[49m\u001B[43mproduct\u001B[49m\u001B[43m(\u001B[49m\n\u001B[0;32m    858\u001B[0m \u001B[43m        \u001B[49m\u001B[38;5;28;43menumerate\u001B[39;49m\u001B[43m(\u001B[49m\u001B[43mcandidate_params\u001B[49m\u001B[43m)\u001B[49m\u001B[43m,\u001B[49m\u001B[43m \u001B[49m\u001B[38;5;28;43menumerate\u001B[39;49m\u001B[43m(\u001B[49m\u001B[43mcv\u001B[49m\u001B[38;5;241;43m.\u001B[39;49m\u001B[43msplit\u001B[49m\u001B[43m(\u001B[49m\u001B[43mX\u001B[49m\u001B[43m,\u001B[49m\u001B[43m \u001B[49m\u001B[43my\u001B[49m\u001B[43m,\u001B[49m\u001B[43m \u001B[49m\u001B[43mgroups\u001B[49m\u001B[43m)\u001B[49m\u001B[43m)\u001B[49m\n\u001B[0;32m    859\u001B[0m \u001B[43m    \u001B[49m\u001B[43m)\u001B[49m\n\u001B[0;32m    860\u001B[0m \u001B[43m\u001B[49m\u001B[43m)\u001B[49m\n\u001B[0;32m    862\u001B[0m \u001B[38;5;28;01mif\u001B[39;00m \u001B[38;5;28mlen\u001B[39m(out) \u001B[38;5;241m<\u001B[39m \u001B[38;5;241m1\u001B[39m:\n\u001B[0;32m    863\u001B[0m     \u001B[38;5;28;01mraise\u001B[39;00m \u001B[38;5;167;01mValueError\u001B[39;00m(\n\u001B[0;32m    864\u001B[0m         \u001B[38;5;124m\"\u001B[39m\u001B[38;5;124mNo fits were performed. \u001B[39m\u001B[38;5;124m\"\u001B[39m\n\u001B[0;32m    865\u001B[0m         \u001B[38;5;124m\"\u001B[39m\u001B[38;5;124mWas the CV iterator empty? \u001B[39m\u001B[38;5;124m\"\u001B[39m\n\u001B[0;32m    866\u001B[0m         \u001B[38;5;124m\"\u001B[39m\u001B[38;5;124mWere there no candidates?\u001B[39m\u001B[38;5;124m\"\u001B[39m\n\u001B[0;32m    867\u001B[0m     )\n",
      "File \u001B[1;32m~\\AppData\\Roaming\\Python\\Python311\\site-packages\\sklearn\\utils\\parallel.py:65\u001B[0m, in \u001B[0;36mParallel.__call__\u001B[1;34m(self, iterable)\u001B[0m\n\u001B[0;32m     60\u001B[0m config \u001B[38;5;241m=\u001B[39m get_config()\n\u001B[0;32m     61\u001B[0m iterable_with_config \u001B[38;5;241m=\u001B[39m (\n\u001B[0;32m     62\u001B[0m     (_with_config(delayed_func, config), args, kwargs)\n\u001B[0;32m     63\u001B[0m     \u001B[38;5;28;01mfor\u001B[39;00m delayed_func, args, kwargs \u001B[38;5;129;01min\u001B[39;00m iterable\n\u001B[0;32m     64\u001B[0m )\n\u001B[1;32m---> 65\u001B[0m \u001B[38;5;28;01mreturn\u001B[39;00m \u001B[38;5;28;43msuper\u001B[39;49m\u001B[43m(\u001B[49m\u001B[43m)\u001B[49m\u001B[38;5;241;43m.\u001B[39;49m\u001B[38;5;21;43m__call__\u001B[39;49m\u001B[43m(\u001B[49m\u001B[43miterable_with_config\u001B[49m\u001B[43m)\u001B[49m\n",
      "File \u001B[1;32m~\\AppData\\Roaming\\Python\\Python311\\site-packages\\joblib\\parallel.py:1952\u001B[0m, in \u001B[0;36mParallel.__call__\u001B[1;34m(self, iterable)\u001B[0m\n\u001B[0;32m   1946\u001B[0m \u001B[38;5;66;03m# The first item from the output is blank, but it makes the interpreter\u001B[39;00m\n\u001B[0;32m   1947\u001B[0m \u001B[38;5;66;03m# progress until it enters the Try/Except block of the generator and\u001B[39;00m\n\u001B[0;32m   1948\u001B[0m \u001B[38;5;66;03m# reach the first `yield` statement. This starts the aynchronous\u001B[39;00m\n\u001B[0;32m   1949\u001B[0m \u001B[38;5;66;03m# dispatch of the tasks to the workers.\u001B[39;00m\n\u001B[0;32m   1950\u001B[0m \u001B[38;5;28mnext\u001B[39m(output)\n\u001B[1;32m-> 1952\u001B[0m \u001B[38;5;28;01mreturn\u001B[39;00m output \u001B[38;5;28;01mif\u001B[39;00m \u001B[38;5;28mself\u001B[39m\u001B[38;5;241m.\u001B[39mreturn_generator \u001B[38;5;28;01melse\u001B[39;00m \u001B[38;5;28;43mlist\u001B[39;49m\u001B[43m(\u001B[49m\u001B[43moutput\u001B[49m\u001B[43m)\u001B[49m\n",
      "File \u001B[1;32m~\\AppData\\Roaming\\Python\\Python311\\site-packages\\joblib\\parallel.py:1595\u001B[0m, in \u001B[0;36mParallel._get_outputs\u001B[1;34m(self, iterator, pre_dispatch)\u001B[0m\n\u001B[0;32m   1592\u001B[0m     \u001B[38;5;28;01myield\u001B[39;00m\n\u001B[0;32m   1594\u001B[0m     \u001B[38;5;28;01mwith\u001B[39;00m \u001B[38;5;28mself\u001B[39m\u001B[38;5;241m.\u001B[39m_backend\u001B[38;5;241m.\u001B[39mretrieval_context():\n\u001B[1;32m-> 1595\u001B[0m         \u001B[38;5;28;01myield from\u001B[39;00m \u001B[38;5;28mself\u001B[39m\u001B[38;5;241m.\u001B[39m_retrieve()\n\u001B[0;32m   1597\u001B[0m \u001B[38;5;28;01mexcept\u001B[39;00m \u001B[38;5;167;01mGeneratorExit\u001B[39;00m:\n\u001B[0;32m   1598\u001B[0m     \u001B[38;5;66;03m# The generator has been garbage collected before being fully\u001B[39;00m\n\u001B[0;32m   1599\u001B[0m     \u001B[38;5;66;03m# consumed. This aborts the remaining tasks if possible and warn\u001B[39;00m\n\u001B[0;32m   1600\u001B[0m     \u001B[38;5;66;03m# the user if necessary.\u001B[39;00m\n\u001B[0;32m   1601\u001B[0m     \u001B[38;5;28mself\u001B[39m\u001B[38;5;241m.\u001B[39m_exception \u001B[38;5;241m=\u001B[39m \u001B[38;5;28;01mTrue\u001B[39;00m\n",
      "File \u001B[1;32m~\\AppData\\Roaming\\Python\\Python311\\site-packages\\joblib\\parallel.py:1707\u001B[0m, in \u001B[0;36mParallel._retrieve\u001B[1;34m(self)\u001B[0m\n\u001B[0;32m   1702\u001B[0m \u001B[38;5;66;03m# If the next job is not ready for retrieval yet, we just wait for\u001B[39;00m\n\u001B[0;32m   1703\u001B[0m \u001B[38;5;66;03m# async callbacks to progress.\u001B[39;00m\n\u001B[0;32m   1704\u001B[0m \u001B[38;5;28;01mif\u001B[39;00m ((\u001B[38;5;28mlen\u001B[39m(\u001B[38;5;28mself\u001B[39m\u001B[38;5;241m.\u001B[39m_jobs) \u001B[38;5;241m==\u001B[39m \u001B[38;5;241m0\u001B[39m) \u001B[38;5;129;01mor\u001B[39;00m\n\u001B[0;32m   1705\u001B[0m     (\u001B[38;5;28mself\u001B[39m\u001B[38;5;241m.\u001B[39m_jobs[\u001B[38;5;241m0\u001B[39m]\u001B[38;5;241m.\u001B[39mget_status(\n\u001B[0;32m   1706\u001B[0m         timeout\u001B[38;5;241m=\u001B[39m\u001B[38;5;28mself\u001B[39m\u001B[38;5;241m.\u001B[39mtimeout) \u001B[38;5;241m==\u001B[39m TASK_PENDING)):\n\u001B[1;32m-> 1707\u001B[0m     time\u001B[38;5;241m.\u001B[39msleep(\u001B[38;5;241m0.01\u001B[39m)\n\u001B[0;32m   1708\u001B[0m     \u001B[38;5;28;01mcontinue\u001B[39;00m\n\u001B[0;32m   1710\u001B[0m \u001B[38;5;66;03m# We need to be careful: the job list can be filling up as\u001B[39;00m\n\u001B[0;32m   1711\u001B[0m \u001B[38;5;66;03m# we empty it and Python list are not thread-safe by\u001B[39;00m\n\u001B[0;32m   1712\u001B[0m \u001B[38;5;66;03m# default hence the use of the lock\u001B[39;00m\n",
      "\u001B[1;31mKeyboardInterrupt\u001B[0m: "
     ]
    }
   ],
   "source": [
    "from sklearn.model_selection import GridSearchCV\n",
    "from sklearn.svm import SVC\n",
    "from sklearn.metrics import accuracy_score\n",
    "\n",
    "# Definir los parámetros a ajustar para el modelo SVC\n",
    "param_grid = {\n",
    "    'C': [0.1, 1, 10, 100], \n",
    "    'gamma': ['scale', 'auto'], \n",
    "    'kernel': ['linear', 'rbf']  \n",
    "}\n",
    "\n",
    "\n",
    "grid_search = GridSearchCV(SVC(), param_grid, cv=5, scoring='accuracy', n_jobs=-1)\n",
    "\n",
    "grid_search.fit(X_entreno, y_entreno)\n",
    "\n",
    "best_model = grid_search.best_estimator_\n",
    "best_params = grid_search.best_params_\n",
    "\n",
    "print(\"Mejores parámetros:\", best_params)\n",
    "\n",
    "y_pred = best_model.predict(X_prueba)\n",
    "\n",
    "accuracy = accuracy_score(y_prueba, y_pred)\n",
    "print(\"Accuracy:\", accuracy)"
   ]
  },
  {
   "cell_type": "markdown",
   "metadata": {},
   "source": [
    "### Eliminación Recursiva de Características"
   ]
  },
  {
   "cell_type": "code",
   "execution_count": null,
   "metadata": {
    "ExecuteTime": {
     "end_time": "2024-02-03T01:49:17.717611700Z",
     "start_time": "2024-02-03T01:49:17.446394600Z"
    }
   },
   "outputs": [],
   "source": [
    "X.head()"
   ]
  },
  {
   "cell_type": "code",
   "execution_count": null,
   "metadata": {
    "ExecuteTime": {
     "start_time": "2024-02-03T01:49:17.448436600Z"
    }
   },
   "outputs": [],
   "source": [
    "from sklearn.feature_selection import RFE\n",
    "from sklearn.svm import SVC\n",
    "\n",
    "model2 = SVC(kernel='linear')\n",
    "rfe = RFE(estimator=model2, n_features_to_select=2, step=1)\n",
    "rfe.fit(X, y)"
   ]
  },
  {
   "cell_type": "code",
   "execution_count": null,
   "metadata": {
    "ExecuteTime": {
     "start_time": "2024-02-03T01:49:17.452319900Z"
    }
   },
   "outputs": [],
   "source": [
    "selected_columns_indice = rfe.get_support(indices=True)\n",
    "selected_columns = X.columns[selected_columns_indice]\n",
    "print(selected_columns)\n",
    "\n",
    "X_new = X[selected_columns].values\n",
    "print(X_new)\n",
    "\n",
    "#Dividir el conjunto de datos en entrenamiento y prueba\n",
    "from sklearn.model_selection import train_test_split\n",
    "X_entreno, X_prueba, y_entreno, y_prueba = train_test_split(X_new, y, test_size = 0.2, random_state = 1)"
   ]
  },
  {
   "cell_type": "code",
   "execution_count": null,
   "metadata": {
    "ExecuteTime": {
     "start_time": "2024-02-03T01:49:17.456059400Z"
    }
   },
   "outputs": [],
   "source": [
    "# Entrene el modelo de SVM con el conjunto de entrenamiento\n",
    "model2.fit(X_entreno, y_entreno)"
   ]
  },
  {
   "cell_type": "code",
   "execution_count": null,
   "metadata": {
    "ExecuteTime": {
     "start_time": "2024-02-03T01:49:17.461964900Z"
    }
   },
   "outputs": [],
   "source": [
    "# Predicción y métricas de evaluación\n",
    "from sklearn.metrics import accuracy_score, classification_report\n",
    "y_pred = model.predict(X_prueba)\n",
    "print(\"accuracy_score: \", accuracy_score(y_prueba, y_pred))\n",
    "print(\"classification_report: \\n\", classification_report(y_prueba, y_pred))"
   ]
  },
  {
   "cell_type": "markdown",
   "metadata": {},
   "source": [
    "### Tunning"
   ]
  },
  {
   "cell_type": "code",
   "execution_count": null,
   "metadata": {
    "ExecuteTime": {
     "start_time": "2024-02-03T01:49:17.466950500Z"
    }
   },
   "outputs": [],
   "source": [
    "from sklearn.model_selection import GridSearchCV\n",
    "from sklearn.svm import SVC\n",
    "from sklearn.metrics import accuracy_score\n",
    "\n",
    "# Definir los parámetros a ajustar para el modelo SVC\n",
    "param_grid = {\n",
    "    'C': [0.1, 1, 10, 100], \n",
    "    'gamma': ['scale', 'auto'], \n",
    "    'kernel': ['linear', 'rbf']  \n",
    "}\n",
    "\n",
    "\n",
    "grid_search = GridSearchCV(SVC(), param_grid, cv=5, scoring='accuracy', n_jobs=-1)\n",
    "\n",
    "grid_search.fit(X_entreno, y_entreno)\n",
    "\n",
    "best_model = grid_search.best_estimator_\n",
    "best_params = grid_search.best_params_\n",
    "\n",
    "print(\"Mejores parámetros:\", best_params)\n",
    "\n",
    "y_pred = best_model.predict(X_prueba)\n",
    "\n",
    "accuracy = accuracy_score(y_prueba, y_pred)\n",
    "print(\"Accuracy:\", accuracy)"
   ]
  },
  {
   "cell_type": "markdown",
   "metadata": {},
   "source": [
    "### Selección de Características basada en Importancia de Árboles"
   ]
  },
  {
   "cell_type": "code",
   "execution_count": null,
   "metadata": {
    "ExecuteTime": {
     "start_time": "2024-02-03T01:49:17.472542600Z"
    }
   },
   "outputs": [],
   "source": [
    "from sklearn.feature_selection import SelectFromModel\n",
    "from sklearn.ensemble import RandomForestClassifier\n",
    "from sklearn.svm import SVC\n",
    "\n",
    "#Dividir el conjunto de datos en entrenamiento y prueba\n",
    "from sklearn.model_selection import train_test_split\n",
    "X_entreno, X_prueba, y_entreno, y_prueba = train_test_split(X, y, test_size = 0.2, random_state = 1)\n",
    "\n",
    "rf_classifer = RandomForestClassifier(random_state=42)\n",
    "rf_classifer.fit(X_entreno, y_entreno)\n"
   ]
  },
  {
   "cell_type": "code",
   "execution_count": null,
   "metadata": {
    "ExecuteTime": {
     "start_time": "2024-02-03T01:49:17.477504700Z"
    }
   },
   "outputs": [],
   "source": [
    "selector = SelectFromModel(estimator=rf_classifer, max_features=2,prefit=True)\n",
    "\n",
    "\n",
    "X_train_selected = selector.transform(X_entreno)\n",
    "X_test_selected = selector.transform(X_prueba)\n",
    "\n",
    "svc = SVC(kernel='linear')\n",
    "svc.fit(X_train_selected, y_entreno)"
   ]
  },
  {
   "cell_type": "code",
   "execution_count": null,
   "metadata": {
    "ExecuteTime": {
     "start_time": "2024-02-03T01:49:17.483908800Z"
    }
   },
   "outputs": [],
   "source": [
    "# Obtener los nombres de las características seleccionadas\n",
    "X_selected_columns = X.columns[selector.get_support()]\n",
    "\n",
    "print(\"Características seleccionadas:\", X_selected_columns)"
   ]
  },
  {
   "cell_type": "code",
   "execution_count": null,
   "metadata": {
    "ExecuteTime": {
     "start_time": "2024-02-03T01:49:17.488699800Z"
    }
   },
   "outputs": [],
   "source": [
    "# Predicción y métricas de evaluación\n",
    "from sklearn.metrics import accuracy_score, classification_report\n",
    "y_pred = svc.predict(X_test_selected)\n",
    "print(\"accuracy_score: \", accuracy_score(y_prueba, y_pred))\n",
    "print(\"classification_report: \\n\", classification_report(y_prueba, y_pred))"
   ]
  },
  {
   "cell_type": "markdown",
   "metadata": {},
   "source": [
    "### Tunning"
   ]
  },
  {
   "cell_type": "code",
   "execution_count": null,
   "metadata": {
    "ExecuteTime": {
     "start_time": "2024-02-03T01:49:17.493440100Z"
    }
   },
   "outputs": [],
   "source": [
    "from sklearn.model_selection import GridSearchCV\n",
    "from sklearn.svm import SVC\n",
    "from sklearn.metrics import accuracy_score\n",
    "\n",
    "# Definir los parámetros a ajustar para el modelo SVC\n",
    "param_grid = {\n",
    "    'C': [0.1, 1, 10, 100], \n",
    "    'gamma': ['scale', 'auto'], \n",
    "    'kernel': ['linear', 'rbf']  \n",
    "}\n",
    "\n",
    "\n",
    "grid_search = GridSearchCV(SVC(), param_grid, cv=5, scoring='accuracy', n_jobs=-1)\n",
    "\n",
    "grid_search.fit(X_train_selected, y_entreno)\n",
    "\n",
    "best_model = grid_search.best_estimator_\n",
    "best_params = grid_search.best_params_\n",
    "\n",
    "print(\"Mejores parámetros:\", best_params)\n",
    "\n",
    "y_pred = best_model.predict(X_test_selected)\n",
    "\n",
    "accuracy = accuracy_score(y_prueba, y_pred)\n",
    "print(\"Accuracy:\", accuracy)"
   ]
  },
  {
   "cell_type": "markdown",
   "metadata": {},
   "source": [
    "### Lab 02"
   ]
  },
  {
   "cell_type": "code",
   "execution_count": null,
   "metadata": {
    "ExecuteTime": {
     "start_time": "2024-02-03T01:49:17.500872800Z"
    }
   },
   "outputs": [],
   "source": [
    "# Support Vector Machine using libraries\n",
    "import pandas as pd\n",
    "from sklearn.model_selection import train_test_split\n",
    "from sklearn.svm import SVC\n",
    "from sklearn.metrics import accuracy_score, classification_report\n",
    "import matplotlib.pyplot as plt\n",
    "import seaborn as sns\n",
    "import numpy as np"
   ]
  },
  {
   "cell_type": "code",
   "execution_count": null,
   "metadata": {
    "ExecuteTime": {
     "start_time": "2024-02-03T01:49:17.503872500Z"
    }
   },
   "outputs": [],
   "source": [
    "dataset = pd.read_csv(\"lol.csv\")\n",
    "\n",
    "# insert on a dataframe called pd the following columns: blueKills', 'blueAvgLevel', 'blueWins'\n",
    "pd = dataset[['blueKills', 'blueAvgLevel', 'blueWins']]\n",
    "\n",
    "X = pd.iloc[:, :-1].values\n",
    "y = pd.iloc[:, -1].values\n",
    "\n",
    "#Dividir el conjunto de datos en entrenamiento y prueba\n",
    "X_entreno, X_prueba, y_entreno, y_prueba = train_test_split(X, y, test_size = 0.2, random_state = 1)\n",
    "\n",
    "# Entrene el modelo de SVM con el conjunto de entrenamiento\n",
    "model = SVC(kernel='linear')\n",
    "model.fit(X_entreno, y_entreno)\n",
    "\n",
    "# Predicción y métricas de evaluación\n",
    "y_pred = model.predict(X_prueba)\n",
    "print(\"accuracy_score: \", accuracy_score(y_prueba, y_pred))\n",
    "print(\"classification_report: \\n\", classification_report(y_prueba, y_pred))"
   ]
  },
  {
   "cell_type": "markdown",
   "metadata": {},
   "source": [
    "### Tunning"
   ]
  },
  {
   "cell_type": "code",
   "execution_count": null,
   "metadata": {
    "ExecuteTime": {
     "start_time": "2024-02-03T01:49:17.508874800Z"
    }
   },
   "outputs": [],
   "source": [
    "from sklearn.model_selection import GridSearchCV\n",
    "from sklearn.svm import SVC\n",
    "from sklearn.metrics import accuracy_score\n",
    "\n",
    "# Definir los parámetros a ajustar para el modelo SVC\n",
    "param_grid = {\n",
    "    'C': [0.1, 1, 10, 100], \n",
    "    'gamma': ['scale', 'auto'], \n",
    "    'kernel': ['linear', 'rbf']  \n",
    "}\n",
    "\n",
    "\n",
    "grid_search = GridSearchCV(SVC(), param_grid, cv=5, scoring='accuracy', n_jobs=-1)\n",
    "\n",
    "grid_search.fit(X_entreno, y_entreno)\n",
    "\n",
    "best_model = grid_search.best_estimator_\n",
    "best_params = grid_search.best_params_\n",
    "\n",
    "print(\"Mejores parámetros:\", best_params)\n",
    "\n",
    "y_pred = best_model.predict(X_prueba)\n",
    "\n",
    "accuracy = accuracy_score(y_prueba, y_pred)\n",
    "print(\"Accuracy:\", accuracy)"
   ]
  },
  {
   "cell_type": "markdown",
   "metadata": {},
   "source": [
    "De las 4 versiones, 3 obtuvieron un puntaje de accuracy igual, estos fueron los que utilizaron las técnicas de feature selection, esto es debido a que dichos selectores escogieron las mismas 2 columnas, siendo estas las mejores para trabajar, en todos los casos (por eso es que el resultado es el mismo), mientras que la versión realizada en el laboratorio 2, se utilizaron columnas seleccionadas a \"ojo\", es por esto que los puntajes salieron 0.72 contra 0.67, una diferencia de tan solo 0.05, indicando que las columnas utilizadas en el laboratorio anterior se acercaron bastante, sin embargo no son las mejores."
   ]
  },
  {
   "cell_type": "markdown",
   "metadata": {},
   "source": [
    "## Task 2.3 - Perceptrón"
   ]
  },
  {
   "cell_type": "code",
   "execution_count": null,
   "metadata": {
    "ExecuteTime": {
     "start_time": "2024-02-03T01:49:17.511874600Z"
    }
   },
   "outputs": [],
   "source": [
    "# implementación de perceptrón de una capa\n",
    "\n",
    "import numpy as np\n",
    "import matplotlib.pyplot as plt\n",
    "from sklearn.datasets import load_iris\n",
    "from sklearn.model_selection import train_test_split\n",
    "from sklearn.metrics import classification_report\n",
    "from sklearn.linear_model import Perceptron\n",
    "%matplotlib inline\n"
   ]
  },
  {
   "cell_type": "code",
   "execution_count": null,
   "metadata": {
    "ExecuteTime": {
     "start_time": "2024-02-03T01:49:17.515878600Z"
    }
   },
   "outputs": [],
   "source": [
    "# Cargar el conjunto de datos\n",
    "iris = load_iris()\n",
    "\n",
    "X = iris.data[:, :2]  # (sepal length y sepal width)\n",
    "# exluir la clase 0\n",
    "y = iris.target != 0\n",
    "\n",
    "print(y)"
   ]
  },
  {
   "cell_type": "code",
   "execution_count": null,
   "metadata": {
    "ExecuteTime": {
     "start_time": "2024-02-03T01:49:17.518877Z"
    }
   },
   "outputs": [],
   "source": [
    "X_train, X_test, y_train, y_test = train_test_split(X, y, test_size=0.2, random_state=1)"
   ]
  },
  {
   "cell_type": "code",
   "execution_count": null,
   "metadata": {
    "ExecuteTime": {
     "start_time": "2024-02-03T01:49:17.521876200Z"
    }
   },
   "outputs": [],
   "source": [
    "clf = Perceptron(eta0=0.1, random_state=1)\n",
    "clf.fit(X_train, y_train)"
   ]
  },
  {
   "cell_type": "code",
   "execution_count": null,
   "metadata": {
    "ExecuteTime": {
     "start_time": "2024-02-03T01:49:17.524879800Z"
    }
   },
   "outputs": [],
   "source": [
    "y_pred = clf.predict(X_test)"
   ]
  },
  {
   "cell_type": "code",
   "execution_count": null,
   "metadata": {
    "ExecuteTime": {
     "start_time": "2024-02-03T01:49:17.528880300Z"
    }
   },
   "outputs": [],
   "source": [
    "# Calcular la precisión del clasificador\n",
    "print(\"classification_report: \\n\", classification_report(y_test, y_pred))"
   ]
  },
  {
   "cell_type": "code",
   "execution_count": null,
   "metadata": {
    "ExecuteTime": {
     "start_time": "2024-02-03T01:49:17.535780500Z"
    }
   },
   "outputs": [],
   "source": [
    "# Scatter plot\n",
    "\n",
    "plt.scatter(X_test[y_test == 1][:, 0], X_test[y_test == 1][:, 1], c='blue', label='True')\n",
    "plt.scatter(X_test[y_test == 0][:, 0], X_test[y_test == 0][:, 1], c='red', label='False')\n",
    "\n",
    "# Añadir etiquetas y leyenda\n",
    "plt.xlabel('sepal length')\n",
    "plt.ylabel('sepal width')\n",
    "plt.title('Desempeño del Modelo Perceptrón')\n",
    "\n",
    "# Crear la línea de límite (boundary)\n",
    "ax = plt.gca()\n",
    "xlim = ax.get_xlim()\n",
    "ylim = ax.get_ylim()\n",
    "\n",
    "# Crear puntos para trazar la línea de límite\n",
    "xx, yy = np.meshgrid(np.linspace(xlim[0], xlim[1], 50),\n",
    "                     np.linspace(ylim[0], ylim[1], 50))\n",
    "\n",
    "# Obtener decision_function para cada punto en la malla1\n",
    "Z = clf.decision_function(np.c_[xx.ravel(), yy.ravel()])\n",
    "Z = Z.reshape(xx.shape)\n",
    "\n",
    "# Trazar la línea de límite\n",
    "plt.contour(xx, yy, Z, colors='k', levels=[0], alpha=0.5, linestyles=['-'])\n",
    "\n",
    "# Mostrar la gráfica\n",
    "plt.legend(loc='lower right')\n",
    "plt.show()\n"
   ]
  }
 ],
 "metadata": {
  "kernelspec": {
   "display_name": "Python 3",
   "language": "python",
   "name": "python3"
  },
  "language_info": {
   "codemirror_mode": {
    "name": "ipython",
    "version": 3
   },
   "file_extension": ".py",
   "mimetype": "text/x-python",
   "name": "python",
   "nbconvert_exporter": "python",
   "pygments_lexer": "ipython3",
   "version": "3.11.4"
  }
 },
 "nbformat": 4,
 "nbformat_minor": 2
}
